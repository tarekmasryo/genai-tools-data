{
 "cells": [
  {
   "cell_type": "markdown",
   "id": "56c52a4b",
   "metadata": {},
   "source": [
    "# 🧠 Baseline EDA — Generative AI Tools & Platforms 2025"
   ]
  },
  {
   "cell_type": "code",
   "execution_count": null,
   "id": "70498ea0",
   "metadata": {},
   "outputs": [],
   "source": [
    "import pandas as pd\n",
    "import matplotlib.pyplot as plt\n",
    "\n",
    "# Load dataset\n",
    "df = pd.read_csv(\"data/Generative AI Tools - Platforms 2025.csv\")\n",
    "print(\"Shape:\", df.shape)\n",
    "df.head()"
   ]
  },
  {
   "cell_type": "code",
   "execution_count": null,
   "id": "36df641b",
   "metadata": {},
   "outputs": [],
   "source": [
    "# Distribution by category\n",
    "category_counts = df['category_canonical'].value_counts().head(10)\n",
    "category_counts.plot(kind='bar', figsize=(8,4), title='Top Categories (2025)')\n",
    "plt.ylabel(\"Count\")\n",
    "plt.show()"
   ]
  },
  {
   "cell_type": "code",
   "execution_count": null,
   "id": "dd70c643",
   "metadata": {},
   "outputs": [],
   "source": [
    "# Distribution by modality\n",
    "modality_counts = df['modality_canonical'].value_counts()\n",
    "modality_counts.plot(kind='bar', figsize=(8,4), title='Tools by Modality (2025)')\n",
    "plt.ylabel(\"Count\")\n",
    "plt.show()"
   ]
  },
  {
   "cell_type": "code",
   "execution_count": null,
   "id": "8e691a05",
   "metadata": {},
   "outputs": [],
   "source": [
    "# Average number of modalities per tool\n",
    "avg_mods = df['modality_count'].mean()\n",
    "print(\"Average modalities per tool:\", round(avg_mods, 2))"
   ]
  }
 ],
 "metadata": {},
 "nbformat": 4,
 "nbformat_minor": 5
}
